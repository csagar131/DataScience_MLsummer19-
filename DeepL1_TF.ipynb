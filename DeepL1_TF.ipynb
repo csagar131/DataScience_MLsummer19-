{
  "nbformat": 4,
  "nbformat_minor": 0,
  "metadata": {
    "colab": {
      "name": "DeepL1_TF.ipynb",
      "version": "0.3.2",
      "provenance": [],
      "include_colab_link": true
    },
    "kernelspec": {
      "name": "python3",
      "display_name": "Python 3"
    }
  },
  "cells": [
    {
      "cell_type": "markdown",
      "metadata": {
        "id": "view-in-github",
        "colab_type": "text"
      },
      "source": [
        "<a href=\"https://colab.research.google.com/github/csagar131/DataScience_MLsummer19-/blob/master/DeepL1_TF.ipynb\" target=\"_parent\"><img src=\"https://colab.research.google.com/assets/colab-badge.svg\" alt=\"Open In Colab\"/></a>"
      ]
    },
    {
      "cell_type": "code",
      "metadata": {
        "id": "rLAgnCZ3naTG",
        "colab_type": "code",
        "colab": {}
      },
      "source": [
        "import tensorflow as tf"
      ],
      "execution_count": 0,
      "outputs": []
    },
    {
      "cell_type": "code",
      "metadata": {
        "id": "XZgoFCuRnska",
        "colab_type": "code",
        "colab": {}
      },
      "source": [
        "#dir(tf)\n",
        "\n",
        "# data input  in tensorflow     ---------> 1. constant  -------->  2.placeholder --------------->  3.variable"
      ],
      "execution_count": 0,
      "outputs": []
    },
    {
      "cell_type": "code",
      "metadata": {
        "id": "e1iYMb1OnxER",
        "colab_type": "code",
        "colab": {}
      },
      "source": [
        "# creating constant\n",
        "x=tf.constant(20)\n",
        "y=tf.constant(30)"
      ],
      "execution_count": 0,
      "outputs": []
    },
    {
      "cell_type": "code",
      "metadata": {
        "id": "zTcjYFVuowDV",
        "colab_type": "code",
        "colab": {
          "base_uri": "https://localhost:8080/",
          "height": 34
        },
        "outputId": "07a99730-0c45-455d-e16a-0553aadda503"
      },
      "source": [
        "#for adding nunbers\n",
        "c=x+y\n",
        "c     # stat saved"
      ],
      "execution_count": 23,
      "outputs": [
        {
          "output_type": "execute_result",
          "data": {
            "text/plain": [
              "<tf.Tensor 'add_2:0' shape=() dtype=int32>"
            ]
          },
          "metadata": {
            "tags": []
          },
          "execution_count": 23
        }
      ]
    },
    {
      "cell_type": "code",
      "metadata": {
        "id": "5N5TyXTypA3t",
        "colab_type": "code",
        "colab": {
          "base_uri": "https://localhost:8080/",
          "height": 34
        },
        "outputId": "556c7770-8a79-486b-faa3-3342cbb7686a"
      },
      "source": [
        "# tensorflow as session that can connect with CPU,GPU,TPU\n",
        "with tf.Session() as sess:    # equivalent to 1,2,3\n",
        "  '''\n",
        "  1 sess = tf.Session()\n",
        "  2 will use the sess var\n",
        "  3 sess.close()\n",
        "  '''\n",
        "  tf.summary.FileWriter(sess.graph)\n",
        "  output=sess.run(c)    # connecting with cpu,gpu,tpu for processing equation == graphs\n",
        "  print(output)\n"
      ],
      "execution_count": 24,
      "outputs": [
        {
          "output_type": "stream",
          "text": [
            "50\n"
          ],
          "name": "stdout"
        }
      ]
    },
    {
      "cell_type": "code",
      "metadata": {
        "id": "MEgla76Qq-Y-",
        "colab_type": "code",
        "colab": {}
      },
      "source": [
        "#!tensorboard --logdir=.                  to check where the graph file is stored"
      ],
      "execution_count": 0,
      "outputs": []
    },
    {
      "cell_type": "code",
      "metadata": {
        "id": "XqOD9o8wq3eV",
        "colab_type": "code",
        "colab": {}
      },
      "source": [
        ""
      ],
      "execution_count": 0,
      "outputs": []
    },
    {
      "cell_type": "code",
      "metadata": {
        "id": "WFliVokgtG9f",
        "colab_type": "code",
        "colab": {}
      },
      "source": [
        ""
      ],
      "execution_count": 0,
      "outputs": []
    }
  ]
}