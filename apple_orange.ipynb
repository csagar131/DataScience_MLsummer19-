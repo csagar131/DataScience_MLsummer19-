{
 "cells": [
  {
   "cell_type": "code",
   "execution_count": 12,
   "metadata": {},
   "outputs": [],
   "source": [
    "# assume some facts or data with features about apple and orange\n",
    "             #weight  #texture\n",
    "features = [[120,0],[130,0],[140,0],[145,1],[150,1],[160,1]]\n",
    "# here 0 means smooth and 1 means bumpy"
   ]
  },
  {
   "cell_type": "code",
   "execution_count": 13,
   "metadata": {},
   "outputs": [],
   "source": [
    "# labels or answers\n",
    "label = [\"apple\",\"apple\",\"apple\",\"orange\",\"orange\",\"orange\"]"
   ]
  },
  {
   "cell_type": "code",
   "execution_count": 4,
   "metadata": {},
   "outputs": [],
   "source": [
    "#  to use algo in Ml we need to install scikit learn\n",
    "#!sudo pip3 install sklearn"
   ]
  },
  {
   "cell_type": "code",
   "execution_count": 5,
   "metadata": {},
   "outputs": [],
   "source": [
    "# lets call any of the classifier decision tree classifier\n",
    "from sklearn import tree"
   ]
  },
  {
   "cell_type": "code",
   "execution_count": 8,
   "metadata": {},
   "outputs": [],
   "source": [
    "# lets explore \n",
    "#dir(tree)\n",
    "clf=tree.DecisionTreeClassifier()  # creating decision tree classifier\n"
   ]
  },
  {
   "cell_type": "code",
   "execution_count": 14,
   "metadata": {},
   "outputs": [],
   "source": [
    "# time for allocating data to classifier   --- for trainig of Decision Tree\n",
    "trained=clf.fit(features,label)    #cannot convert str to float error\n",
    "#           Q   &  A"
   ]
  },
  {
   "cell_type": "code",
   "execution_count": 19,
   "metadata": {},
   "outputs": [
    {
     "name": "stdout",
     "output_type": "stream",
     "text": [
      "['apple']\n"
     ]
    }
   ],
   "source": [
    "# time for asking question \n",
    "output=trained.predict([[133,1]])\n",
    "print(output)"
   ]
  },
  {
   "cell_type": "code",
   "execution_count": 2,
   "metadata": {},
   "outputs": [],
   "source": [
    "#from sklearn import datasets\n",
    "# dir(datasets)\n",
    "#x= datasets.load_diabetes()\n",
    "# dir(x)\n",
    "# x.DESC"
   ]
  },
  {
   "cell_type": "code",
   "execution_count": null,
   "metadata": {},
   "outputs": [],
   "source": []
  }
 ],
 "metadata": {
  "kernelspec": {
   "display_name": "Python 3",
   "language": "python",
   "name": "python3"
  },
  "language_info": {
   "codemirror_mode": {
    "name": "ipython",
    "version": 3
   },
   "file_extension": ".py",
   "mimetype": "text/x-python",
   "name": "python",
   "nbconvert_exporter": "python",
   "pygments_lexer": "ipython3",
   "version": "3.6.7"
  }
 },
 "nbformat": 4,
 "nbformat_minor": 2
}
