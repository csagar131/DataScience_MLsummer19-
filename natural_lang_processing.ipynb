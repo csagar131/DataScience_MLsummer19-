{
  "nbformat": 4,
  "nbformat_minor": 0,
  "metadata": {
    "colab": {
      "name": "Welcome To Colaboratory",
      "version": "0.3.2",
      "provenance": [],
      "collapsed_sections": [],
      "toc_visible": true,
      "include_colab_link": true
    },
    "kernelspec": {
      "display_name": "Python 3",
      "name": "python3"
    }
  },
  "cells": [
    {
      "cell_type": "markdown",
      "metadata": {
        "id": "view-in-github",
        "colab_type": "text"
      },
      "source": [
        "<a href=\"https://colab.research.google.com/github/csagar131/DataScience_MLsummer19-/blob/master/natural_lang_processing.ipynb\" target=\"_parent\"><img src=\"https://colab.research.google.com/assets/colab-badge.svg\" alt=\"Open In Colab\"/></a>"
      ]
    },
    {
      "cell_type": "markdown",
      "metadata": {
        "colab_type": "text",
        "id": "5fCEDCU_qrC0"
      },
      "source": [
        "<p><img alt=\"Colaboratory logo\" height=\"45px\" src=\"https://colab.research.google.com/img/colab_favicon.ico\" align=\"left\" hspace=\"10px\" vspace=\"0px\"></p>\n",
        "\n",
        "<h1>Welcome to Colaboratory!</h1>\n",
        "\n",
        "\n",
        "Colaboratory is a free Jupyter notebook environment that requires no setup and runs entirely in the cloud.\n",
        "\n",
        "With Colaboratory you can write and execute code, save and share your analyses, and access powerful computing resources, all for free from your browser."
      ]
    },
    {
      "cell_type": "code",
      "metadata": {
        "id": "Rr-ExbT8BBK7",
        "colab_type": "code",
        "colab": {}
      },
      "source": [
        "from nltk.corpus import wordnet"
      ],
      "execution_count": 0,
      "outputs": []
    },
    {
      "cell_type": "code",
      "metadata": {
        "id": "psXlf1GCBUTt",
        "colab_type": "code",
        "colab": {}
      },
      "source": [
        "import nltk\n",
        "#nltk.download('all')"
      ],
      "execution_count": 0,
      "outputs": []
    },
    {
      "cell_type": "code",
      "metadata": {
        "id": "xx-R_j-XBbjj",
        "colab_type": "code",
        "colab": {}
      },
      "source": [
        "from nltk.corpus import stopwords"
      ],
      "execution_count": 0,
      "outputs": []
    },
    {
      "cell_type": "code",
      "metadata": {
        "id": "qJ-zr3r_CL_6",
        "colab_type": "code",
        "colab": {}
      },
      "source": [
        "lst=stopwords.words('english')"
      ],
      "execution_count": 0,
      "outputs": []
    },
    {
      "cell_type": "code",
      "metadata": {
        "id": "K6MTx2zACizq",
        "colab_type": "code",
        "outputId": "0e9956f0-50d9-4f94-aec1-dc0be37e5a26",
        "colab": {
          "base_uri": "https://localhost:8080/",
          "height": 34
        }
      },
      "source": [
        "lst[:10]"
      ],
      "execution_count": 0,
      "outputs": [
        {
          "output_type": "execute_result",
          "data": {
            "text/plain": [
              "['i', 'me', 'my', 'myself', 'we', 'our', 'ours', 'ourselves', 'you', \"you're\"]"
            ]
          },
          "metadata": {
            "tags": []
          },
          "execution_count": 9
        }
      ]
    },
    {
      "cell_type": "code",
      "metadata": {
        "id": "FnYOH24GCqKg",
        "colab_type": "code",
        "colab": {}
      },
      "source": [
        "from nltk.tokenize import sent_tokenize,word_tokenize\n",
        "from nltk.stem import WordNetLemmatizer       # for lemmatization\n",
        "from nltk.stem import PorterStemmer  # for stemming"
      ],
      "execution_count": 0,
      "outputs": []
    },
    {
      "cell_type": "code",
      "metadata": {
        "id": "oZY5KfLkDk5v",
        "colab_type": "code",
        "colab": {}
      },
      "source": [
        "data = \"my name is sagar and i am a programmer sometimes i like to programe in python currently i used to go on feet\"\n",
        "wtoken=word_tokenize(data) #word tokenize -- on behalf of space sep words\n",
        "\n"
      ],
      "execution_count": 0,
      "outputs": []
    },
    {
      "cell_type": "code",
      "metadata": {
        "id": "KWGF8z9CEDs1",
        "colab_type": "code",
        "outputId": "a29757b1-89f0-4987-d3f0-259459c36a47",
        "colab": {
          "base_uri": "https://localhost:8080/",
          "height": 204
        }
      },
      "source": [
        "# removing stopwords\n",
        "removed_sword=[word for word in wtoken if word not in lst]\n",
        "removed_sword"
      ],
      "execution_count": 0,
      "outputs": [
        {
          "output_type": "execute_result",
          "data": {
            "text/plain": [
              "['name',\n",
              " 'sagar',\n",
              " 'programmer',\n",
              " 'sometimes',\n",
              " 'like',\n",
              " 'programe',\n",
              " 'python',\n",
              " 'currently',\n",
              " 'used',\n",
              " 'go',\n",
              " 'feet']"
            ]
          },
          "metadata": {
            "tags": []
          },
          "execution_count": 28
        }
      ]
    },
    {
      "cell_type": "code",
      "metadata": {
        "id": "8fmq3E-HE5QZ",
        "colab_type": "code",
        "outputId": "b7a4e1c6-c00d-4bb3-a08b-80db1835de19",
        "colab": {
          "base_uri": "https://localhost:8080/",
          "height": 204
        }
      },
      "source": [
        "# stemming \n",
        "ps=PorterStemmer()\n",
        "for i in removed_sword:\n",
        "  print(ps.stem(i))"
      ],
      "execution_count": 0,
      "outputs": [
        {
          "output_type": "stream",
          "text": [
            "name\n",
            "sagar\n",
            "programm\n",
            "sometim\n",
            "like\n",
            "program\n",
            "python\n",
            "current\n",
            "use\n",
            "go\n",
            "feet\n"
          ],
          "name": "stdout"
        }
      ]
    },
    {
      "cell_type": "code",
      "metadata": {
        "id": "Y-3qWGCuFgtJ",
        "colab_type": "code",
        "outputId": "2fbda444-b7ed-4e08-b132-810888f20eba",
        "colab": {
          "base_uri": "https://localhost:8080/",
          "height": 204
        }
      },
      "source": [
        "#now its time for lemmatization\n",
        "lem=WordNetLemmatizer()\n",
        "for i in removed_sword:\n",
        "  print(lem.lemmatize(i))"
      ],
      "execution_count": 0,
      "outputs": [
        {
          "output_type": "stream",
          "text": [
            "name\n",
            "sagar\n",
            "programmer\n",
            "sometimes\n",
            "like\n",
            "programe\n",
            "python\n",
            "currently\n",
            "used\n",
            "go\n",
            "foot\n"
          ],
          "name": "stdout"
        }
      ]
    },
    {
      "cell_type": "code",
      "metadata": {
        "id": "iE82MuhjGsP_",
        "colab_type": "code",
        "colab": {}
      },
      "source": [
        ""
      ],
      "execution_count": 0,
      "outputs": []
    }
  ]
}