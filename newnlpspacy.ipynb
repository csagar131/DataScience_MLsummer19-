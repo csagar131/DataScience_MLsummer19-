{
  "nbformat": 4,
  "nbformat_minor": 0,
  "metadata": {
    "colab": {
      "name": "newnlpspacy.ipynb",
      "version": "0.3.2",
      "provenance": [],
      "include_colab_link": true
    },
    "kernelspec": {
      "name": "python3",
      "display_name": "Python 3"
    }
  },
  "cells": [
    {
      "cell_type": "markdown",
      "metadata": {
        "id": "view-in-github",
        "colab_type": "text"
      },
      "source": [
        "<a href=\"https://colab.research.google.com/github/csagar131/DataScience_MLsummer19-/blob/master/newnlpspacy.ipynb\" target=\"_parent\"><img src=\"https://colab.research.google.com/assets/colab-badge.svg\" alt=\"Open In Colab\"/></a>"
      ]
    },
    {
      "cell_type": "code",
      "metadata": {
        "id": "C7OjkXZZIPup",
        "colab_type": "code",
        "colab": {}
      },
      "source": [
        "#!pip3 install spacy"
      ],
      "execution_count": 0,
      "outputs": []
    },
    {
      "cell_type": "code",
      "metadata": {
        "id": "nV3UZABrIcr-",
        "colab_type": "code",
        "colab": {}
      },
      "source": [
        "import spacy\n",
        "import time"
      ],
      "execution_count": 0,
      "outputs": []
    },
    {
      "cell_type": "code",
      "metadata": {
        "id": "ft5cbnOXIkAP",
        "colab_type": "code",
        "colab": {}
      },
      "source": [
        "nlp = spacy.load('en')    # this will use nltk_data folder to load library"
      ],
      "execution_count": 0,
      "outputs": []
    },
    {
      "cell_type": "code",
      "metadata": {
        "id": "dgMY746wIqKC",
        "colab_type": "code",
        "colab": {}
      },
      "source": [
        "data = \"my name is sagar and i am a programmer sometimes i like to programe in python currently i used to go on feet\""
      ],
      "execution_count": 0,
      "outputs": []
    },
    {
      "cell_type": "code",
      "metadata": {
        "id": "6XcdK5eIIwwX",
        "colab_type": "code",
        "colab": {}
      },
      "source": [
        "# applying NLP        --means tokenizing itself\n",
        "p_data = nlp(data)"
      ],
      "execution_count": 0,
      "outputs": []
    },
    {
      "cell_type": "code",
      "metadata": {
        "id": "tHgBTd3BI34Q",
        "colab_type": "code",
        "colab": {
          "base_uri": "https://localhost:8080/",
          "height": 799
        },
        "outputId": "590fcf85-83a8-42e0-d36c-01c174213e0a"
      },
      "source": [
        "# checking lemma and POS\n",
        "for i in p_data:\n",
        "  print(i,'::::::lemma----->',i.lemma_)\n",
        "  time.sleep(2)\n",
        "  print(\"POS of word is:\",i.pos_)"
      ],
      "execution_count": 18,
      "outputs": [
        {
          "output_type": "stream",
          "text": [
            "my ::::::lemma-----> -PRON-\n",
            "POS of word is: DET\n",
            "name ::::::lemma-----> name\n",
            "POS of word is: NOUN\n",
            "is ::::::lemma-----> be\n",
            "POS of word is: VERB\n",
            "sagar ::::::lemma-----> sagar\n",
            "POS of word is: ADJ\n",
            "and ::::::lemma-----> and\n",
            "POS of word is: CCONJ\n",
            "i ::::::lemma-----> i\n",
            "POS of word is: PRON\n",
            "am ::::::lemma-----> be\n",
            "POS of word is: VERB\n",
            "a ::::::lemma-----> a\n",
            "POS of word is: DET\n",
            "programmer ::::::lemma-----> programmer\n",
            "POS of word is: NOUN\n",
            "sometimes ::::::lemma-----> sometimes\n",
            "POS of word is: ADV\n",
            "i ::::::lemma-----> i\n",
            "POS of word is: PRON\n",
            "like ::::::lemma-----> like\n",
            "POS of word is: VERB\n",
            "to ::::::lemma-----> to\n",
            "POS of word is: PART\n",
            "programe ::::::lemma-----> programe\n",
            "POS of word is: VERB\n",
            "in ::::::lemma-----> in\n",
            "POS of word is: ADP\n",
            "python ::::::lemma-----> python\n",
            "POS of word is: NOUN\n",
            "currently ::::::lemma-----> currently\n",
            "POS of word is: ADV\n",
            "i ::::::lemma-----> i\n",
            "POS of word is: PRON\n",
            "used ::::::lemma-----> use\n",
            "POS of word is: VERB\n",
            "to ::::::lemma-----> to\n",
            "POS of word is: PART\n",
            "go ::::::lemma-----> go\n",
            "POS of word is: VERB\n",
            "on ::::::lemma-----> on\n",
            "POS of word is: ADP\n",
            "feet ::::::lemma-----> foot\n",
            "POS of word is: NOUN\n"
          ],
          "name": "stdout"
        }
      ]
    },
    {
      "cell_type": "code",
      "metadata": {
        "id": "cbDwsSV9JIme",
        "colab_type": "code",
        "colab": {}
      },
      "source": [
        ""
      ],
      "execution_count": 0,
      "outputs": []
    }
  ]
}