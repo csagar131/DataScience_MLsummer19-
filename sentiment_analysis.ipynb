{
  "nbformat": 4,
  "nbformat_minor": 0,
  "metadata": {
    "colab": {
      "name": "sentiment_analysis.ipynb",
      "version": "0.3.2",
      "provenance": [],
      "include_colab_link": true
    },
    "kernelspec": {
      "name": "python3",
      "display_name": "Python 3"
    }
  },
  "cells": [
    {
      "cell_type": "markdown",
      "metadata": {
        "id": "view-in-github",
        "colab_type": "text"
      },
      "source": [
        "<a href=\"https://colab.research.google.com/github/csagar131/DataScience_MLsummer19-/blob/master/sentiment_analysis.ipynb\" target=\"_parent\"><img src=\"https://colab.research.google.com/assets/colab-badge.svg\" alt=\"Open In Colab\"/></a>"
      ]
    },
    {
      "cell_type": "code",
      "metadata": {
        "id": "p6i7g8SoMmIN",
        "colab_type": "code",
        "colab": {}
      },
      "source": [
        "#!pip3 install tweepy\n",
        "import tweepy\n",
        "import time\n",
        "from textblob import TextBlob\n",
        "import matplotlib.pyplot as plt"
      ],
      "execution_count": 0,
      "outputs": []
    },
    {
      "cell_type": "code",
      "metadata": {
        "id": "OX5q5I5jMrp8",
        "colab_type": "code",
        "colab": {}
      },
      "source": [
        "# storing consumer key and token\n",
        "consumer_key=\"\"\n",
        "consumer_secret=\"\"\n",
        "access_token=\"\"\n",
        "access_token_secret=\"\""
      ],
      "execution_count": 0,
      "outputs": []
    },
    {
      "cell_type": "code",
      "metadata": {
        "id": "D1yZB6InNv3b",
        "colab_type": "code",
        "colab": {
          "base_uri": "https://localhost:8080/",
          "height": 34
        },
        "outputId": "7613baf3-105a-4788-e1b7-79e562248cf3"
      },
      "source": [
        "# method for consumer key and consumer secret\n",
        "auth = tweepy.OAuthHandler(consumer_key, consumer_secret)\n",
        "auth.set_access_token(access_token, access_token_secret)\n",
        "\n",
        "# now you can connect api\n",
        "api = tweepy.API(auth)\n",
        "api"
      ],
      "execution_count": 17,
      "outputs": [
        {
          "output_type": "execute_result",
          "data": {
            "text/plain": [
              "<tweepy.api.API at 0x7fa8d090ae48>"
            ]
          },
          "metadata": {
            "tags": []
          },
          "execution_count": 17
        }
      ]
    },
    {
      "cell_type": "code",
      "metadata": {
        "id": "K3e90TxmPFBR",
        "colab_type": "code",
        "colab": {
          "base_uri": "https://localhost:8080/",
          "height": 204
        },
        "outputId": "b9d7299e-f695-4a3d-9704-c6a9ebe898f1"
      },
      "source": [
        "pos=0\n",
        "neg=0\n",
        "neu=0\n",
        "# now api is connected now you can search the topic\n",
        "tweets=api.search('virat',count=10)\n",
        "# printing in text form only\n",
        "for tweet in tweets:\n",
        "  analysis=TextBlob(tweet.text)\n",
        "  #print(analysis.sentiment)    # polarity    -1 negative 0 neutral +1 positive              ----------->subjectivity means understanding\n",
        "  if analysis.sentiment.polarity > 0:\n",
        "    print('positive sentiment')\n",
        "    pos = pos+1\n",
        "  elif analysis.sentiment.polarity == 0:\n",
        "    print('neutral')\n",
        "    neu = neu +1\n",
        "  else:\n",
        "    print('negative')\n",
        "    neg = neg +1\n",
        "print(pos,neg,neu)"
      ],
      "execution_count": 47,
      "outputs": [
        {
          "output_type": "stream",
          "text": [
            "neutral\n",
            "neutral\n",
            "positive sentiment\n",
            "neutral\n",
            "neutral\n",
            "neutral\n",
            "neutral\n",
            "neutral\n",
            "positive sentiment\n",
            "neutral\n",
            "2 0 8\n"
          ],
          "name": "stdout"
        }
      ]
    },
    {
      "cell_type": "code",
      "metadata": {
        "id": "LGzjPGVoQqdo",
        "colab_type": "code",
        "colab": {
          "base_uri": "https://localhost:8080/",
          "height": 283
        },
        "outputId": "654b3ea1-85dd-477a-c442-b426ed674dc3"
      },
      "source": [
        "plt.xlabel('sentiments')\n",
        "plt.ylabel('count')\n",
        "plt.bar(['positive','negative','neutral'],[pos,neg,neu])\n",
        "plt.show()"
      ],
      "execution_count": 50,
      "outputs": [
        {
          "output_type": "display_data",
          "data": {
            "image/png": "[encoded data removed]",
            "text/plain": [
              "<Figure size 432x288 with 1 Axes>"
            ]
          },
          "metadata": {
            "tags": []
          }
        }
      ]
    },
    {
      "cell_type": "code",
      "metadata": {
        "id": "JmpaKqtaVvuK",
        "colab_type": "code",
        "colab": {}
      },
      "source": [
        ""
      ],
      "execution_count": 0,
      "outputs": []
    }
  ]
}